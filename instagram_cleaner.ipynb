{
 "cells": [
  {
   "cell_type": "code",
   "execution_count": 1,
   "metadata": {},
   "outputs": [],
   "source": [
    "from selenium import webdriver\n",
    "from selenium.webdriver import Chrome\n",
    "import time\n",
    "import pickle\n",
    "import tensorflow as tf\n",
    "import re\n",
    "from getpass import getpass"
   ]
  },
  {
   "cell_type": "markdown",
   "metadata": {},
   "source": [
    "## Loading Model and tokenizer"
   ]
  },
  {
   "cell_type": "code",
   "execution_count": 2,
   "metadata": {},
   "outputs": [],
   "source": [
    "model=tf.keras.models.load_model('lstmclassifier')\n",
    "file= open('tokenizer', 'rb')\n",
    "tokenizer = pickle.load(file)"
   ]
  },
  {
   "cell_type": "markdown",
   "metadata": {},
   "source": [
    "## Implementing the cleaner"
   ]
  },
  {
   "cell_type": "code",
   "execution_count": 12,
   "metadata": {},
   "outputs": [],
   "source": [
    "class ToxicCommentsRemover:\n",
    "    login_status=0\n",
    "    def __init__(self):\n",
    "        #Starting web driver\n",
    "        self.browser = webdriver.Chrome()\n",
    "        self.browser.get(\"http://www.instagram.com\")\n",
    "    def login(self,username,password):\n",
    "        #Login into the account\n",
    "        username_field = self.browser.find_element_by_xpath(\"//input[@aria-label='Phone number, username, or email']\")\n",
    "        username_field.clear()\n",
    "        username_field.send_keys(username)\n",
    "        password_field = self.browser.find_element_by_xpath(\"//input[@aria-label='Password']\")\n",
    "        password_field.clear()\n",
    "        password_field.send_keys(password)\n",
    "        login=self.browser.find_element_by_xpath('//*[@id=\"react-root\"]/section/main/article/div[2]/div[1]/div/form/div[4]/button')\n",
    "        login.click()\n",
    "        time.sleep(3)\n",
    "        if self.browser.current_url=='https://www.instagram.com/':\n",
    "            print(\"Wrong email/password\")\n",
    "        else:\n",
    "            print(\"You are logged in\")\n",
    "            self.login_status=1\n",
    "            \n",
    "    \n",
    "    def loadComments(self,link_to_the_post):\n",
    "        self.browser.get(link_to_the_post)\n",
    "        #LOADING EVERY COMMENT\n",
    "        while 1:\n",
    "            time.sleep(1)\n",
    "            try:\n",
    "                click=self.browser.find_element_by_xpath('/html/body/div[4]/div[2]/div/article/div/div[3]/div[1]/ul/li/div/button')\n",
    "                click.click()\n",
    "            except:\n",
    "                break\n",
    "        #Getting Comments\n",
    "        all_comments=[]\n",
    "        comments=self.browser.find_elements_by_class_name('Mr508')\n",
    "        for comment in comments:\n",
    "            comment_text = comment.text\n",
    "            comment_text = comment_text.split(\"\\n\")[1]\n",
    "            #Preprocessing comment\n",
    "            comment_text = self.preprocess_comment(comment_text)\n",
    "            all_comments.append(comment_text)\n",
    "        return all_comments    \n",
    "    \n",
    "    def clean_post(self,link_to_the_post):\n",
    "        #Loading COmments\n",
    "        if self.login_status==1:\n",
    "            comments=self.loadComments(link_to_the_post)\n",
    "            current=0\n",
    "            #Iterating through comments\n",
    "            for i in range(len(comments)):\n",
    "                #Checking toxicity\n",
    "                toxicity=self.check_toxicity(comments[i])\n",
    "                if toxicity==1:\n",
    "                    dot_path='//*[@id=\"react-root\"]/section/main/div/div/article/div/div[3]/div[1]/ul/ul['+str(i+1-current)+']/div/li/div/div[2]/button'\n",
    "                    userName = self.browser.find_element_by_xpath(dot_path)\n",
    "                    self.browser.execute_script(\"arguments[0].click();\", userName)\n",
    "                    time.sleep(2)\n",
    "                    try:\n",
    "                        click=self.browser.find_element_by_xpath('/html/body/div[3]/div/div/div/div/button[2]')\n",
    "                        click.click()\n",
    "                    except:\n",
    "                        click=self.browser.find_element_by_xpath('/html/body/div[4]/div/div/div/div/button[2]')\n",
    "                        click.click()\n",
    "                    time.sleep(1)\n",
    "                    current+=1\n",
    "                    self.browser.get(link_to_the_post)\n",
    "            print('Your Post has been cleaned')     \n",
    "    def preprocess_comment(self,comment):\n",
    "        comment = re.sub(r\"[!-()\\\"#/@;:<>{}=~|.?,]\",\"\",comment.lower())\n",
    "        comment = re.sub(\"\\\\n\",\" \",comment)\n",
    "        comment = re.sub(\"\\d\",\" \",comment)\n",
    "        comment=\" \".join(comment.split())\n",
    "        return [comment]\n",
    "    def check_toxicity(self,comment):\n",
    "        #Feeding comment into the lstm model\n",
    "        comment = tokenizer.texts_to_sequences(comment)\n",
    "        comment = tf.keras.preprocessing.sequence.pad_sequences(comment, maxlen=128)\n",
    "        toxicity = model.predict(comment)\n",
    "        if toxicity > 0.80:\n",
    "            return 1\n",
    "        else:\n",
    "            return 0\n",
    "        "
   ]
  },
  {
   "cell_type": "code",
   "execution_count": 10,
   "metadata": {},
   "outputs": [
    {
     "name": "stdout",
     "output_type": "stream",
     "text": [
      "dankydankdonkey\n",
      "········\n",
      "You are logged in\n",
      "Your Post has been cleaned\n"
     ]
    }
   ],
   "source": [
    "username=input()\n",
    "password=getpass()   #getpass to hide your password \n"
   ]
  },
  {
   "cell_type": "code",
   "execution_count": 13,
   "metadata": {},
   "outputs": [
    {
     "name": "stdout",
     "output_type": "stream",
     "text": [
      "You are logged in\n",
      "Your Post has been cleaned\n"
     ]
    }
   ],
   "source": [
    "cleaner=ToxicCommentsRemover()\n",
    "time.sleep(2)\n",
    "cleaner.login(username,password)\n",
    "time.sleep(1)\n",
    "cleaner.clean_post(\"link_here\")"
   ]
  }
 ],
 "metadata": {
  "kernelspec": {
   "display_name": "Python 3",
   "language": "python",
   "name": "python3"
  },
  "language_info": {
   "codemirror_mode": {
    "name": "ipython",
    "version": 3
   },
   "file_extension": ".py",
   "mimetype": "text/x-python",
   "name": "python",
   "nbconvert_exporter": "python",
   "pygments_lexer": "ipython3",
   "version": "3.7.6"
  }
 },
 "nbformat": 4,
 "nbformat_minor": 4
}
